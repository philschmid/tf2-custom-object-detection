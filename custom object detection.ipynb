{
 "cells": [
  {
   "cell_type": "markdown",
   "metadata": {},
   "source": [
    "# Tensorflow Custom Object Detetction"
   ]
  },
  {
   "cell_type": "markdown",
   "metadata": {},
   "source": [
    "### Infos\n",
    "\n",
    "* set up Object_detection: https://medium.com/@viviennediegoencarnacion/how-to-setup-tensorflow-object-detection-on-mac-a0b72fbf470a"
   ]
  },
  {
   "cell_type": "markdown",
   "metadata": {},
   "source": [
    "## Variables"
   ]
  },
  {
   "cell_type": "code",
   "execution_count": 18,
   "metadata": {},
   "outputs": [],
   "source": [
    "input_image_path = 'data/images'\n",
    "output_csv = 'data/labeled_data.csv'\n",
    "pbtext = 'data/object.pbtxt'\n",
    "output_path='data/train.record'"
   ]
  },
  {
   "cell_type": "markdown",
   "metadata": {},
   "source": [
    "## Generate csv from labeled XML and Images\n",
    "\n",
    "* from /data into pdf_labels.csv"
   ]
  },
  {
   "cell_type": "code",
   "execution_count": 28,
   "metadata": {},
   "outputs": [],
   "source": [
    "!python3 xml_to_csv.py data/images data/labeled_data.csv"
   ]
  },
  {
   "cell_type": "markdown",
   "metadata": {},
   "source": [
    "## Generate PBtext File"
   ]
  },
  {
   "cell_type": "code",
   "execution_count": 29,
   "metadata": {},
   "outputs": [],
   "source": [
    "!python3 generate_pbtext.py csv data/labeled_data.csv data/object.pbtxt"
   ]
  },
  {
   "cell_type": "markdown",
   "metadata": {},
   "source": [
    "## Generate TFRecords for model"
   ]
  },
  {
   "cell_type": "markdown",
   "metadata": {},
   "source": [
    "TODO: fix python script tf.app not supported in tf 2.p "
   ]
  },
  {
   "cell_type": "code",
   "execution_count": 30,
   "metadata": {},
   "outputs": [
    {
     "name": "stdout",
     "output_type": "stream",
     "text": [
      "['item {', 'id: 1', 'display_name: \"barcode\"', '}', '', 'item {', 'id: 2', 'display_name: \"company_address\"', '}', '', 'item {', 'id: 3', 'display_name: \"detail\"', '}', '', 'item {', 'id: 4', 'display_name: \"table\"', '}', '']\r\n",
      "Traceback (most recent call last):\r\n",
      "  File \"generate_tfrecord.py\", line 149, in <module>\r\n",
      "    writer = tf.python_io.TFRecordWriter(args.output_path)\r\n",
      "AttributeError: module 'tensorflow' has no attribute 'python_io'\r\n"
     ]
    }
   ],
   "source": [
    "!python3 generate_tfrecord.py data/labeled_data.csv data/object.pbtxt data/images/ data/train.record"
   ]
  },
  {
   "cell_type": "code",
   "execution_count": null,
   "metadata": {},
   "outputs": [],
   "source": []
  }
 ],
 "metadata": {
  "kernelspec": {
   "display_name": "Python 3",
   "language": "python",
   "name": "python3"
  },
  "language_info": {
   "codemirror_mode": {
    "name": "ipython",
    "version": 3
   },
   "file_extension": ".py",
   "mimetype": "text/x-python",
   "name": "python",
   "nbconvert_exporter": "python",
   "pygments_lexer": "ipython3",
   "version": "3.7.4"
  }
 },
 "nbformat": 4,
 "nbformat_minor": 2
}
