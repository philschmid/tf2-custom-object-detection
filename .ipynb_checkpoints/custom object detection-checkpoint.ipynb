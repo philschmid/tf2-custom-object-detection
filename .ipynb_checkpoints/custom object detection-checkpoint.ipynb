{
 "cells": [
  {
   "cell_type": "markdown",
   "metadata": {},
   "source": [
    "# Tensorflow Custom Object Detetction"
   ]
  },
  {
   "cell_type": "markdown",
   "metadata": {},
   "source": [
    "### Infos\n",
    "\n",
    "* set up Object_detection: https://medium.com/@viviennediegoencarnacion/how-to-setup-tensorflow-object-detection-on-mac-a0b72fbf470a"
   ]
  },
  {
   "cell_type": "markdown",
   "metadata": {},
   "source": [
    "## Variables"
   ]
  },
  {
   "cell_type": "code",
   "execution_count": 18,
   "metadata": {},
   "outputs": [],
   "source": [
    "input_image_path = 'data/images'\n",
    "output_csv = 'data/labeled_data.csv'\n",
    "pbtext = 'data/object.pbtxt'\n",
    "output_path='data/train.record'"
   ]
  },
  {
   "cell_type": "markdown",
   "metadata": {},
   "source": [
    "## Generate csv from labeled XML and Images\n",
    "\n",
    "* from /data into pdf_labels.csv"
   ]
  },
  {
   "cell_type": "code",
   "execution_count": 28,
   "metadata": {},
   "outputs": [],
   "source": [
    "!python3 xml_to_csv.py data/images data/labeled_data.csv"
   ]
  },
  {
   "cell_type": "markdown",
   "metadata": {},
   "source": [
    "## Generate PBtext File"
   ]
  },
  {
   "cell_type": "code",
   "execution_count": 29,
   "metadata": {},
   "outputs": [],
   "source": [
    "!python3 generate_pbtext.py csv data/labeled_data.csv data/object.pbtxt"
   ]
  },
  {
   "cell_type": "markdown",
   "metadata": {},
   "source": [
    "## Generate TFRecords for model"
   ]
  },
  {
   "cell_type": "markdown",
   "metadata": {},
   "source": [
    "TODO: fix python script tf.app not supported in tf 2.p "
   ]
  },
  {
   "cell_type": "code",
   "execution_count": 5,
   "metadata": {},
   "outputs": [
    {
     "name": "stdout",
     "output_type": "stream",
     "text": [
      "usage: generate_tfrecord.py [-h] csv_input pbtxt_input image_dir output_path\r\n",
      "\r\n",
      "Create a TFRecord file for use with the TensorFlow Object Detection API.\r\n",
      "\r\n",
      "positional arguments:\r\n",
      "  csv_input    Path to the CSV input\r\n",
      "  pbtxt_input  Path to a pbtxt file containing class ids and display names\r\n",
      "  image_dir    Path to the directory containing all images\r\n",
      "  output_path  Path to output TFRecord\r\n",
      "\r\n",
      "optional arguments:\r\n",
      "  -h, --help   show this help message and exit\r\n"
     ]
    }
   ],
   "source": [
    "!python3 generate_tfrecord.py -h"
   ]
  },
  {
   "cell_type": "code",
   "execution_count": null,
   "metadata": {},
   "outputs": [],
   "source": []
  }
 ],
 "metadata": {
  "kernelspec": {
   "display_name": "Python 3",
   "language": "python",
   "name": "python3"
  },
  "language_info": {
   "codemirror_mode": {
    "name": "ipython",
    "version": 3
   },
   "file_extension": ".py",
   "mimetype": "text/x-python",
   "name": "python",
   "nbconvert_exporter": "python",
   "pygments_lexer": "ipython3",
   "version": "3.7.4"
  }
 },
 "nbformat": 4,
 "nbformat_minor": 2
}
